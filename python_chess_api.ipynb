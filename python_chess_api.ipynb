{
 "cells": [
  {
   "cell_type": "code",
   "execution_count": 5,
   "id": "ce1e5d8b",
   "metadata": {},
   "outputs": [],
   "source": [
    "import asyncio\n",
    "import requests\n",
    "\n",
    "import pandas as pd\n",
    "import numpy as np\n",
    "import matplotlib as plt\n",
    "\n",
    "import json\n",
    "\n",
    "import stripe"
   ]
  },
  {
   "cell_type": "code",
   "execution_count": 6,
   "id": "b3abb22e",
   "metadata": {},
   "outputs": [],
   "source": [
    "# emergency backup code\n",
    "# wnny-uifa-zayo-sjxw-enwi"
   ]
  },
  {
   "cell_type": "code",
   "execution_count": null,
   "id": "47328522",
   "metadata": {},
   "outputs": [],
   "source": [
    "# Accessing Chess API data\n",
    "# Access User Profile Data\n",
    "# Access User's current and historical games\n",
    "# Access for any chess game both players ids and the outcome/status of the game."
   ]
  },
  {
   "cell_type": "code",
   "execution_count": 9,
   "id": "abceec90",
   "metadata": {},
   "outputs": [],
   "source": [
    "url_player_profile = \"https://api.chess.com/pub/player/\"\n",
    "\n",
    "usr = \"jokerrnikita\"\n",
    "\n",
    "resp = requests.get(url_player_profile + usr)"
   ]
  },
  {
   "cell_type": "code",
   "execution_count": 11,
   "id": "fb8ad6cf",
   "metadata": {},
   "outputs": [
    {
     "data": {
      "text/plain": [
       "200"
      ]
     },
     "execution_count": 11,
     "metadata": {},
     "output_type": "execute_result"
    }
   ],
   "source": [
    "resp.status_code"
   ]
  },
  {
   "cell_type": "code",
   "execution_count": 13,
   "id": "2ef6cfe7",
   "metadata": {},
   "outputs": [
    {
     "data": {
      "text/plain": [
       "{'player_id': 55647830,\n",
       " '@id': 'https://api.chess.com/pub/player/jokerrnikita',\n",
       " 'url': 'https://www.chess.com/member/JokerrNikita',\n",
       " 'name': 'Никита Иванов',\n",
       " 'username': 'jokerrnikita',\n",
       " 'followers': 2,\n",
       " 'country': 'https://api.chess.com/pub/country/GB',\n",
       " 'last_online': 1650983246,\n",
       " 'joined': 1546877782,\n",
       " 'status': 'basic',\n",
       " 'is_streamer': False}"
      ]
     },
     "execution_count": 13,
     "metadata": {},
     "output_type": "execute_result"
    }
   ],
   "source": [
    "resp.json()"
   ]
  },
  {
   "cell_type": "code",
   "execution_count": 73,
   "id": "fb878960",
   "metadata": {},
   "outputs": [
    {
     "name": "stdout",
     "output_type": "stream",
     "text": [
      "Such username was not found. Error 404\n"
     ]
    }
   ],
   "source": [
    "username = \"adsfasdgds\"\n",
    "year = \"2022\"\n",
    "month = \"04\"\n",
    "url_latest_games_for_username = f\" https://api.chess.com/pub/player/{username}/games/{year}/{month}\"\n",
    "\n",
    "try:\n",
    "    resp = requests.get(url_latest_games_for_username)\n",
    "    if resp.status_code == 404:\n",
    "        raise ValueError(\"Such username was not found. Error 404\")\n",
    "except ValueError as e:\n",
    "    print(e)"
   ]
  },
  {
   "cell_type": "code",
   "execution_count": 68,
   "id": "36857fff",
   "metadata": {},
   "outputs": [],
   "source": [
    "games_history = resp.json()"
   ]
  },
  {
   "cell_type": "code",
   "execution_count": 69,
   "id": "5c284365",
   "metadata": {},
   "outputs": [
    {
     "ename": "KeyError",
     "evalue": "'games'",
     "output_type": "error",
     "traceback": [
      "\u001b[0;31m---------------------------------------------------------------------------\u001b[0m",
      "\u001b[0;31mKeyError\u001b[0m                                  Traceback (most recent call last)",
      "\u001b[0;32m/var/folders/73/49djygss0073nqm4j66sj7f00000gn/T/ipykernel_50396/1417634867.py\u001b[0m in \u001b[0;36m<module>\u001b[0;34m\u001b[0m\n\u001b[0;32m----> 1\u001b[0;31m \u001b[0musr_games_history\u001b[0m \u001b[0;34m=\u001b[0m \u001b[0mgames_history\u001b[0m\u001b[0;34m[\u001b[0m\u001b[0;34m'games'\u001b[0m\u001b[0;34m]\u001b[0m\u001b[0;34m\u001b[0m\u001b[0;34m\u001b[0m\u001b[0m\n\u001b[0m",
      "\u001b[0;31mKeyError\u001b[0m: 'games'"
     ]
    }
   ],
   "source": [
    "usr_games_history = games_history['games']"
   ]
  },
  {
   "cell_type": "code",
   "execution_count": 39,
   "id": "7d24a245",
   "metadata": {},
   "outputs": [
    {
     "data": {
      "text/plain": [
       "398"
      ]
     },
     "execution_count": 39,
     "metadata": {},
     "output_type": "execute_result"
    }
   ],
   "source": [
    "len(usr_games_history)"
   ]
  },
  {
   "cell_type": "code",
   "execution_count": 31,
   "id": "fc4a246f",
   "metadata": {},
   "outputs": [
    {
     "data": {
      "text/plain": [
       "dict_keys(['url', 'pgn', 'time_control', 'end_time', 'rated', 'accuracies', 'tcn', 'uuid', 'initial_setup', 'fen', 'time_class', 'rules', 'white', 'black'])"
      ]
     },
     "execution_count": 31,
     "metadata": {},
     "output_type": "execute_result"
    }
   ],
   "source": [
    "usr_games_history[0].keys()"
   ]
  },
  {
   "cell_type": "code",
   "execution_count": 37,
   "id": "024ed80a",
   "metadata": {},
   "outputs": [
    {
     "data": {
      "text/plain": [
       "{'rating': 3014,\n",
       " 'result': 'resigned',\n",
       " '@id': 'https://api.chess.com/pub/player/hansontwitch',\n",
       " 'username': 'HansOnTwitch',\n",
       " 'uuid': '60e7d63e-dcc5-11ea-a0f4-65f58ca30122'}"
      ]
     },
     "execution_count": 37,
     "metadata": {},
     "output_type": "execute_result"
    }
   ],
   "source": [
    "usr_games_history[0]['white']"
   ]
  },
  {
   "cell_type": "code",
   "execution_count": 38,
   "id": "2bd6ce22",
   "metadata": {},
   "outputs": [
    {
     "data": {
      "text/plain": [
       "{'rating': 3215,\n",
       " 'result': 'win',\n",
       " '@id': 'https://api.chess.com/pub/player/hikaru',\n",
       " 'username': 'Hikaru',\n",
       " 'uuid': '6f4deb88-7718-11e3-8016-000000000000'}"
      ]
     },
     "execution_count": 38,
     "metadata": {},
     "output_type": "execute_result"
    }
   ],
   "source": [
    "usr_games_history[0]['black']"
   ]
  },
  {
   "cell_type": "code",
   "execution_count": 60,
   "id": "6a0d42b8",
   "metadata": {},
   "outputs": [],
   "source": [
    "# Storing the user's games and respective result won/lost\n",
    "player_games_data = {}\n",
    "\n",
    "lost_status = ['abandoned', 'checkmated', 'resigned', 'lose', 'timeout']\n",
    "draw_status = ['stalemate', 'repetition', 'agreed']\n",
    "win_status = ['win']\n",
    "\n",
    "def player_history(username):\n",
    "    for idx, game_dict in enumerate(usr_games_history):\n",
    "\n",
    "        # grabbing each game dictionary/obj\n",
    "        white_outcome = game_dict['white']['result']\n",
    "        black_outcome = game_dict['black']['result']\n",
    "\n",
    "        white_username = game_dict['white']['username']\n",
    "        black_username = game_dict['black']['username']\n",
    "\n",
    "        if white_username == username:\n",
    "            player_games_data[idx + 1] = {white_username: white_outcome, black_username: black_outcome, \"white\": white_username, \"black\": black_username}\n",
    "        elif black_username == username:\n",
    "            player_games_data[idx + 1] = {black_username: black_outcome, white_username: white_outcome, \"black\": black_username, \"white\": white_username}\n",
    "\n",
    "        # Who won?\n",
    "        if white_outcome in lost_status:\n",
    "            player_games_data[idx + 1]['whoWon'] = \"black\"\n",
    "        elif white_outcome in draw_status:\n",
    "            player_games_data[idx + 1]['whoWon'] = \"draw\"\n",
    "        elif white_outcome in win_status:\n",
    "            player_games_data[idx + 1]['whoWon'] = \"white\"\n",
    "    \n",
    "player_history(\"Hikaru\")"
   ]
  },
  {
   "cell_type": "code",
   "execution_count": 65,
   "id": "5f218c84",
   "metadata": {},
   "outputs": [
    {
     "data": {
      "text/plain": [
       "[{'Hikaru': 'win',\n",
       "  'HansOnTwitch': 'resigned',\n",
       "  'black': 'Hikaru',\n",
       "  'white': 'HansOnTwitch',\n",
       "  'whoWon': 'black'},\n",
       " {'Hikaru': 'repetition',\n",
       "  'HansOnTwitch': 'repetition',\n",
       "  'white': 'Hikaru',\n",
       "  'black': 'HansOnTwitch',\n",
       "  'whoWon': 'draw'},\n",
       " {'Hikaru': 'win',\n",
       "  'HansOnTwitch': 'resigned',\n",
       "  'black': 'Hikaru',\n",
       "  'white': 'HansOnTwitch',\n",
       "  'whoWon': 'black'},\n",
       " {'Hikaru': 'win',\n",
       "  'HansOnTwitch': 'resigned',\n",
       "  'white': 'Hikaru',\n",
       "  'black': 'HansOnTwitch',\n",
       "  'whoWon': 'white'},\n",
       " {'Hikaru': 'resigned',\n",
       "  'Grischuk': 'win',\n",
       "  'black': 'Hikaru',\n",
       "  'white': 'Grischuk',\n",
       "  'whoWon': 'white'}]"
      ]
     },
     "execution_count": 65,
     "metadata": {},
     "output_type": "execute_result"
    }
   ],
   "source": [
    "list(player_games_data.values())[0:5]"
   ]
  },
  {
   "cell_type": "code",
   "execution_count": null,
   "id": "12d8f71b",
   "metadata": {},
   "outputs": [],
   "source": []
  }
 ],
 "metadata": {
  "kernelspec": {
   "display_name": "Python 3 (ipykernel)",
   "language": "python",
   "name": "python3"
  },
  "language_info": {
   "codemirror_mode": {
    "name": "ipython",
    "version": 3
   },
   "file_extension": ".py",
   "mimetype": "text/x-python",
   "name": "python",
   "nbconvert_exporter": "python",
   "pygments_lexer": "ipython3",
   "version": "3.9.6"
  }
 },
 "nbformat": 4,
 "nbformat_minor": 5
}
